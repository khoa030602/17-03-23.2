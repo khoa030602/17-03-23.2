{
  "nbformat": 4,
  "nbformat_minor": 0,
  "metadata": {
    "colab": {
      "provenance": [],
      "authorship_tag": "ABX9TyPF+waTpAXL4fgVOTOAnFbu",
      "include_colab_link": true
    },
    "kernelspec": {
      "name": "python3",
      "display_name": "Python 3"
    },
    "language_info": {
      "name": "python"
    }
  },
  "cells": [
    {
      "cell_type": "markdown",
      "metadata": {
        "id": "view-in-github",
        "colab_type": "text"
      },
      "source": [
        "<a href=\"https://colab.research.google.com/github/khoa030602/17-03-23.2/blob/main/17_03_23_mtcars.ipynb\" target=\"_parent\"><img src=\"https://colab.research.google.com/assets/colab-badge.svg\" alt=\"Open In Colab\"/></a>"
      ]
    },
    {
      "cell_type": "code",
      "execution_count": null,
      "metadata": {
        "colab": {
          "base_uri": "https://localhost:8080/",
          "height": 206
        },
        "id": "WRjfrRsrJfQu",
        "outputId": "3cd846b2-5203-4298-e901-759e3f3d9c78"
      },
      "outputs": [
        {
          "output_type": "execute_result",
          "data": {
            "text/plain": [
              "          Unnamed: 0   mpg   disp   hp     wt\n",
              "0          Mazda RX4  21.0  160.0  110  2.620\n",
              "1      Mazda RX4 Wag  21.0  160.0  110  2.875\n",
              "2         Datsun 710  22.8  108.0   93  2.320\n",
              "3     Hornet 4 Drive  21.4  258.0  110  3.215\n",
              "4  Hornet Sportabout  18.7  360.0  175  3.440"
            ],
            "text/html": [
              "\n",
              "  <div id=\"df-49e7d44b-72b4-43aa-9a7e-0e455c0f2b17\">\n",
              "    <div class=\"colab-df-container\">\n",
              "      <div>\n",
              "<style scoped>\n",
              "    .dataframe tbody tr th:only-of-type {\n",
              "        vertical-align: middle;\n",
              "    }\n",
              "\n",
              "    .dataframe tbody tr th {\n",
              "        vertical-align: top;\n",
              "    }\n",
              "\n",
              "    .dataframe thead th {\n",
              "        text-align: right;\n",
              "    }\n",
              "</style>\n",
              "<table border=\"1\" class=\"dataframe\">\n",
              "  <thead>\n",
              "    <tr style=\"text-align: right;\">\n",
              "      <th></th>\n",
              "      <th>Unnamed: 0</th>\n",
              "      <th>mpg</th>\n",
              "      <th>disp</th>\n",
              "      <th>hp</th>\n",
              "      <th>wt</th>\n",
              "    </tr>\n",
              "  </thead>\n",
              "  <tbody>\n",
              "    <tr>\n",
              "      <th>0</th>\n",
              "      <td>Mazda RX4</td>\n",
              "      <td>21.0</td>\n",
              "      <td>160.0</td>\n",
              "      <td>110</td>\n",
              "      <td>2.620</td>\n",
              "    </tr>\n",
              "    <tr>\n",
              "      <th>1</th>\n",
              "      <td>Mazda RX4 Wag</td>\n",
              "      <td>21.0</td>\n",
              "      <td>160.0</td>\n",
              "      <td>110</td>\n",
              "      <td>2.875</td>\n",
              "    </tr>\n",
              "    <tr>\n",
              "      <th>2</th>\n",
              "      <td>Datsun 710</td>\n",
              "      <td>22.8</td>\n",
              "      <td>108.0</td>\n",
              "      <td>93</td>\n",
              "      <td>2.320</td>\n",
              "    </tr>\n",
              "    <tr>\n",
              "      <th>3</th>\n",
              "      <td>Hornet 4 Drive</td>\n",
              "      <td>21.4</td>\n",
              "      <td>258.0</td>\n",
              "      <td>110</td>\n",
              "      <td>3.215</td>\n",
              "    </tr>\n",
              "    <tr>\n",
              "      <th>4</th>\n",
              "      <td>Hornet Sportabout</td>\n",
              "      <td>18.7</td>\n",
              "      <td>360.0</td>\n",
              "      <td>175</td>\n",
              "      <td>3.440</td>\n",
              "    </tr>\n",
              "  </tbody>\n",
              "</table>\n",
              "</div>\n",
              "      <button class=\"colab-df-convert\" onclick=\"convertToInteractive('df-49e7d44b-72b4-43aa-9a7e-0e455c0f2b17')\"\n",
              "              title=\"Convert this dataframe to an interactive table.\"\n",
              "              style=\"display:none;\">\n",
              "        \n",
              "  <svg xmlns=\"http://www.w3.org/2000/svg\" height=\"24px\"viewBox=\"0 0 24 24\"\n",
              "       width=\"24px\">\n",
              "    <path d=\"M0 0h24v24H0V0z\" fill=\"none\"/>\n",
              "    <path d=\"M18.56 5.44l.94 2.06.94-2.06 2.06-.94-2.06-.94-.94-2.06-.94 2.06-2.06.94zm-11 1L8.5 8.5l.94-2.06 2.06-.94-2.06-.94L8.5 2.5l-.94 2.06-2.06.94zm10 10l.94 2.06.94-2.06 2.06-.94-2.06-.94-.94-2.06-.94 2.06-2.06.94z\"/><path d=\"M17.41 7.96l-1.37-1.37c-.4-.4-.92-.59-1.43-.59-.52 0-1.04.2-1.43.59L10.3 9.45l-7.72 7.72c-.78.78-.78 2.05 0 2.83L4 21.41c.39.39.9.59 1.41.59.51 0 1.02-.2 1.41-.59l7.78-7.78 2.81-2.81c.8-.78.8-2.07 0-2.86zM5.41 20L4 18.59l7.72-7.72 1.47 1.35L5.41 20z\"/>\n",
              "  </svg>\n",
              "      </button>\n",
              "      \n",
              "  <style>\n",
              "    .colab-df-container {\n",
              "      display:flex;\n",
              "      flex-wrap:wrap;\n",
              "      gap: 12px;\n",
              "    }\n",
              "\n",
              "    .colab-df-convert {\n",
              "      background-color: #E8F0FE;\n",
              "      border: none;\n",
              "      border-radius: 50%;\n",
              "      cursor: pointer;\n",
              "      display: none;\n",
              "      fill: #1967D2;\n",
              "      height: 32px;\n",
              "      padding: 0 0 0 0;\n",
              "      width: 32px;\n",
              "    }\n",
              "\n",
              "    .colab-df-convert:hover {\n",
              "      background-color: #E2EBFA;\n",
              "      box-shadow: 0px 1px 2px rgba(60, 64, 67, 0.3), 0px 1px 3px 1px rgba(60, 64, 67, 0.15);\n",
              "      fill: #174EA6;\n",
              "    }\n",
              "\n",
              "    [theme=dark] .colab-df-convert {\n",
              "      background-color: #3B4455;\n",
              "      fill: #D2E3FC;\n",
              "    }\n",
              "\n",
              "    [theme=dark] .colab-df-convert:hover {\n",
              "      background-color: #434B5C;\n",
              "      box-shadow: 0px 1px 3px 1px rgba(0, 0, 0, 0.15);\n",
              "      filter: drop-shadow(0px 1px 2px rgba(0, 0, 0, 0.3));\n",
              "      fill: #FFFFFF;\n",
              "    }\n",
              "  </style>\n",
              "\n",
              "      <script>\n",
              "        const buttonEl =\n",
              "          document.querySelector('#df-49e7d44b-72b4-43aa-9a7e-0e455c0f2b17 button.colab-df-convert');\n",
              "        buttonEl.style.display =\n",
              "          google.colab.kernel.accessAllowed ? 'block' : 'none';\n",
              "\n",
              "        async function convertToInteractive(key) {\n",
              "          const element = document.querySelector('#df-49e7d44b-72b4-43aa-9a7e-0e455c0f2b17');\n",
              "          const dataTable =\n",
              "            await google.colab.kernel.invokeFunction('convertToInteractive',\n",
              "                                                     [key], {});\n",
              "          if (!dataTable) return;\n",
              "\n",
              "          const docLinkHtml = 'Like what you see? Visit the ' +\n",
              "            '<a target=\"_blank\" href=https://colab.research.google.com/notebooks/data_table.ipynb>data table notebook</a>'\n",
              "            + ' to learn more about interactive tables.';\n",
              "          element.innerHTML = '';\n",
              "          dataTable['output_type'] = 'display_data';\n",
              "          await google.colab.output.renderOutput(dataTable, element);\n",
              "          const docLink = document.createElement('div');\n",
              "          docLink.innerHTML = docLinkHtml;\n",
              "          element.appendChild(docLink);\n",
              "        }\n",
              "      </script>\n",
              "    </div>\n",
              "  </div>\n",
              "  "
            ]
          },
          "metadata": {},
          "execution_count": 1
        }
      ],
      "source": [
        "import pandas as pd\n",
        "url = 'mtcars.csv'\n",
        "data = pd.read_csv(url)\n",
        "data.head()"
      ]
    },
    {
      "cell_type": "code",
      "source": [
        "import seaborn as sns\n",
        "import matplotlib.pyplot as plt\n",
        "data.hist()\n",
        "plt.show()"
      ],
      "metadata": {
        "colab": {
          "base_uri": "https://localhost:8080/",
          "height": 281
        },
        "id": "Rj2keiebJ2qL",
        "outputId": "4024c049-825e-4a26-f045-8303ee0347e7"
      },
      "execution_count": null,
      "outputs": [
        {
          "output_type": "display_data",
          "data": {
            "text/plain": [
              "<Figure size 432x288 with 4 Axes>"
            ],
            "image/png": "[encoded data removed]"
          },
          "metadata": {
            "needs_background": "light"
          }
        }
      ]
    },
    {
      "cell_type": "code",
      "source": [
        "correlation = data.corr()\n",
        "print(correlation)"
      ],
      "metadata": {
        "colab": {
          "base_uri": "https://localhost:8080/"
        },
        "id": "hnIWMmhrLsdP",
        "outputId": "ee2c3563-4ddb-458b-89f7-816030ad729a"
      },
      "execution_count": null,
      "outputs": [
        {
          "output_type": "stream",
          "name": "stdout",
          "text": [
            "           mpg      disp        hp        wt\n",
            "mpg   1.000000 -0.847551 -0.776168 -0.867659\n",
            "disp -0.847551  1.000000  0.790949  0.887980\n",
            "hp   -0.776168  0.790949  1.000000  0.658748\n",
            "wt   -0.867659  0.887980  0.658748  1.000000\n"
          ]
        }
      ]
    },
    {
      "cell_type": "code",
      "source": [
        "sns.pairplot(data)"
      ],
      "metadata": {
        "colab": {
          "base_uri": "https://localhost:8080/",
          "height": 743
        },
        "id": "fZlfvNvpMF_p",
        "outputId": "f0eb98e1-4df5-4639-d49c-0f9d6de18ee1"
      },
      "execution_count": null,
      "outputs": [
        {
          "output_type": "execute_result",
          "data": {
            "text/plain": [
              "<seaborn.axisgrid.PairGrid at 0x7f9b76b9ec40>"
            ]
          },
          "metadata": {},
          "execution_count": 5
        },
        {
          "output_type": "display_data",
          "data": {
            "text/plain": [
              "<Figure size 720x720 with 20 Axes>"
            ],
            "image/png": "[encoded data removed]"
          },
          "metadata": {
            "needs_background": "light"
          }
        }
      ]
    },
    {
      "cell_type": "code",
      "source": [
        "sns.heatmap(correlation, annot = True)"
      ],
      "metadata": {
        "colab": {
          "base_uri": "https://localhost:8080/",
          "height": 286
        },
        "id": "RH6AP3jVMXEB",
        "outputId": "0dce7e31-4dcd-4981-f729-68a16ac63454"
      },
      "execution_count": null,
      "outputs": [
        {
          "output_type": "execute_result",
          "data": {
            "text/plain": [
              "<Axes: >"
            ]
          },
          "metadata": {},
          "execution_count": 4
        },
        {
          "output_type": "display_data",
          "data": {
            "text/plain": [
              "<Figure size 432x288 with 2 Axes>"
            ],
            "image/png": "[encoded data removed]"
          },
          "metadata": {
            "needs_background": "light"
          }
        }
      ]
    },
    {
      "cell_type": "code",
      "source": [
        "data.plot(kind='scatter',x='wt',y='mpg',figsize=(9,9),color='black')"
      ],
      "metadata": {
        "colab": {
          "base_uri": "https://localhost:8080/",
          "height": 626
        },
        "id": "IFBEfr0fOh15",
        "outputId": "67be5746-6f4a-4e9c-a702-7ec642035b21"
      },
      "execution_count": null,
      "outputs": [
        {
          "output_type": "stream",
          "name": "stderr",
          "text": [
            "/usr/local/lib/python3.9/dist-packages/pandas/plotting/_matplotlib/core.py:1114: UserWarning: No data for colormapping provided via 'c'. Parameters 'cmap' will be ignored\n",
            "  scatter = ax.scatter(\n"
          ]
        },
        {
          "output_type": "execute_result",
          "data": {
            "text/plain": [
              "<Axes: xlabel='wt', ylabel='mpg'>"
            ]
          },
          "metadata": {},
          "execution_count": 5
        },
        {
          "output_type": "display_data",
          "data": {
            "text/plain": [
              "<Figure size 648x648 with 1 Axes>"
            ],
            "image/png": "[encoded data removed]"
          },
          "metadata": {
            "needs_background": "light"
          }
        }
      ]
    },
    {
      "cell_type": "code",
      "source": [
        "from sklearn import linear_model\n",
        "model=linear_model.LinearRegression()\n",
        "model.fit(X=pd.DataFrame(data['wt']),y=data['mpg'])\n",
        "print('Gia tri Intercept la:',model.intercept_)\n",
        "print('Gia tri coeffient la :',model.coef_)"
      ],
      "metadata": {
        "colab": {
          "base_uri": "https://localhost:8080/"
        },
        "id": "e9XtPEwzQPUE",
        "outputId": "5981ef2c-ebc3-4e30-a1a3-d0cee1011660"
      },
      "execution_count": null,
      "outputs": [
        {
          "output_type": "stream",
          "name": "stdout",
          "text": [
            "Gia tri Intercept la: 37.28512616734204\n",
            "Gia tri coeffient la : [-5.34447157]\n"
          ]
        }
      ]
    },
    {
      "cell_type": "code",
      "source": [
        "X=pd.DataFrame(data['wt'])\n",
        "y=data['mpg']\n",
        "model.score(X,y)"
      ],
      "metadata": {
        "colab": {
          "base_uri": "https://localhost:8080/"
        },
        "id": "BN4K3SofRWRl",
        "outputId": "c519b6f8-9f7b-4dcd-89c8-6d2abca22938"
      },
      "execution_count": null,
      "outputs": [
        {
          "output_type": "execute_result",
          "data": {
            "text/plain": [
              "0.7528327936582646"
            ]
          },
          "metadata": {},
          "execution_count": 7
        }
      ]
    },
    {
      "cell_type": "code",
      "source": [
        "data.plot(kind='scatter',x='wt',y='mpg',figsize=(9,9),color='black')\n",
        "y_pred=model.predict(X)\n",
        "plt.plot(data['wt'],y_pred,color='blue')"
      ],
      "metadata": {
        "colab": {
          "base_uri": "https://localhost:8080/",
          "height": 624
        },
        "id": "MuCujF8IS_jT",
        "outputId": "d4946337-47d1-46c2-cb7d-2830bd1a3034"
      },
      "execution_count": null,
      "outputs": [
        {
          "output_type": "stream",
          "name": "stderr",
          "text": [
            "/usr/local/lib/python3.9/dist-packages/pandas/plotting/_matplotlib/core.py:1114: UserWarning: No data for colormapping provided via 'c'. Parameters 'cmap' will be ignored\n",
            "  scatter = ax.scatter(\n"
          ]
        },
        {
          "output_type": "execute_result",
          "data": {
            "text/plain": [
              "[<matplotlib.lines.Line2D at 0x7f0f1e29e730>]"
            ]
          },
          "metadata": {},
          "execution_count": 8
        },
        {
          "output_type": "display_data",
          "data": {
            "text/plain": [
              "<Figure size 648x648 with 1 Axes>"
            ],
            "image/png": "[encoded data removed]"
          },
          "metadata": {
            "needs_background": "light"
          }
        }
      ]
    },
    {
      "cell_type": "code",
      "source": [
        "model=linear_model.LinearRegression()\n",
        "X=pd.DataFrame([data['wt'],data['wt']**2]).T\n",
        "model.fit(X,y=data['mpg'])\n",
        "print('He so intercept la:',model.intercept_)\n",
        "print('He so coeffient la :',model.coef_)\n",
        "print('Do chinh xac cua mo hinh:', model.score(X,y))"
      ],
      "metadata": {
        "colab": {
          "base_uri": "https://localhost:8080/"
        },
        "id": "r7HWb9-oTgX7",
        "outputId": "5e1e19d8-9d26-4977-c831-837cda405d75"
      },
      "execution_count": null,
      "outputs": [
        {
          "output_type": "stream",
          "name": "stdout",
          "text": [
            "He so intercept la: 49.93081094945181\n",
            "He so coeffient la : [-13.38033708   1.17108689]\n",
            "Do chinh xac cua mo hinh: 0.8190613581384094\n"
          ]
        }
      ]
    },
    {
      "cell_type": "code",
      "source": [
        "import numpy as np\n",
        "range=np.arange(1.5,5.5,0.1)\n",
        "X_range=pd.DataFrame([range,range**2]).T\n",
        "y_pred=model.predict(X_range)\n",
        "data.plot(kind='scatter',x='wt',y='mpg',figsize=(9,9),color='black',xlim=(0,7))\n",
        "plt.plot(range,y_pred,color='blue')\n"
      ],
      "metadata": {
        "colab": {
          "base_uri": "https://localhost:8080/",
          "height": 661
        },
        "id": "ck078bizVpDF",
        "outputId": "33e318ad-e6c0-4d97-dbf7-5a7da6a69e5e"
      },
      "execution_count": null,
      "outputs": [
        {
          "output_type": "stream",
          "name": "stderr",
          "text": [
            "/usr/local/lib/python3.9/dist-packages/sklearn/base.py:439: UserWarning: X does not have valid feature names, but LinearRegression was fitted with feature names\n",
            "  warnings.warn(\n",
            "/usr/local/lib/python3.9/dist-packages/pandas/plotting/_matplotlib/core.py:1114: UserWarning: No data for colormapping provided via 'c'. Parameters 'cmap' will be ignored\n",
            "  scatter = ax.scatter(\n"
          ]
        },
        {
          "output_type": "execute_result",
          "data": {
            "text/plain": [
              "[<matplotlib.lines.Line2D at 0x7f0f1e2d6bb0>]"
            ]
          },
          "metadata": {},
          "execution_count": 10
        },
        {
          "output_type": "display_data",
          "data": {
            "text/plain": [
              "<Figure size 648x648 with 1 Axes>"
            ],
            "image/png": "[encoded data removed]"
          },
          "metadata": {
            "needs_background": "light"
          }
        }
      ]
    },
    {
      "cell_type": "code",
      "source": [
        "model=linear_model.LinearRegression()\n",
        "model.fit(X=data.loc[:,['wt','hp']],y=data['mpg'])\n",
        "print('He so coeffient la :',model.coef_)\n",
        "print('He so intercept la:',model.intercept_)\n",
        "print('Do chinh xac cua mo hinh',X,y)\n"
      ],
      "metadata": {
        "colab": {
          "base_uri": "https://localhost:8080/"
        },
        "id": "g3D0EgSLXd0_",
        "outputId": "a4baee2d-7121-439c-9f1b-974d18a2e581"
      },
      "execution_count": null,
      "outputs": [
        {
          "output_type": "stream",
          "name": "stdout",
          "text": [
            "He so coeffient la : [-3.87783074 -0.03177295]\n",
            "He so intercept la: 37.227270116447215\n",
            "Do chinh xac cua mo hinh        wt         wt\n",
            "0   2.620   6.864400\n",
            "1   2.875   8.265625\n",
            "2   2.320   5.382400\n",
            "3   3.215  10.336225\n",
            "4   3.440  11.833600\n",
            "5   3.460  11.971600\n",
            "6   3.570  12.744900\n",
            "7   3.190  10.176100\n",
            "8   3.150   9.922500\n",
            "9   3.440  11.833600\n",
            "10  3.440  11.833600\n",
            "11  4.070  16.564900\n",
            "12  3.730  13.912900\n",
            "13  3.780  14.288400\n",
            "14  5.250  27.562500\n",
            "15  5.424  29.419776\n",
            "16  5.345  28.569025\n",
            "17  2.200   4.840000\n",
            "18  1.615   2.608225\n",
            "19  1.835   3.367225\n",
            "20  2.465   6.076225\n",
            "21  3.520  12.390400\n",
            "22  3.435  11.799225\n",
            "23  3.840  14.745600\n",
            "24  3.845  14.784025\n",
            "25  1.935   3.744225\n",
            "26  2.140   4.579600\n",
            "27  1.513   2.289169\n",
            "28  3.170  10.048900\n",
            "29  2.770   7.672900\n",
            "30  3.570  12.744900\n",
            "31  2.780   7.728400 mpg\n"
          ]
        }
      ]
    },
    {
      "cell_type": "code",
      "source": [
        "model=linear_model.LinearRegression()\n",
        "model.fit(X=data.loc[:,['wt','hp','disp']],y=data['mpg'])\n",
        "print('He so coeffient la :',model.coef_)\n",
        "print('He so intercept la:',model.intercept_)\n",
        "print('Do chinh xac cua mo hinh',X,y)"
      ],
      "metadata": {
        "colab": {
          "base_uri": "https://localhost:8080/"
        },
        "id": "GNw9o0wlj3Cz",
        "outputId": "ad83e25b-8bea-47bd-ba2c-b2e54b4a8b1e"
      },
      "execution_count": null,
      "outputs": [
        {
          "output_type": "stream",
          "name": "stdout",
          "text": [
            "He so coeffient la : [-3.80089058e+00 -3.11565508e-02 -9.37009081e-04]\n",
            "He so intercept la: 37.10550526903184\n",
            "Do chinh xac cua mo hinh        wt         wt\n",
            "0   2.620   6.864400\n",
            "1   2.875   8.265625\n",
            "2   2.320   5.382400\n",
            "3   3.215  10.336225\n",
            "4   3.440  11.833600\n",
            "5   3.460  11.971600\n",
            "6   3.570  12.744900\n",
            "7   3.190  10.176100\n",
            "8   3.150   9.922500\n",
            "9   3.440  11.833600\n",
            "10  3.440  11.833600\n",
            "11  4.070  16.564900\n",
            "12  3.730  13.912900\n",
            "13  3.780  14.288400\n",
            "14  5.250  27.562500\n",
            "15  5.424  29.419776\n",
            "16  5.345  28.569025\n",
            "17  2.200   4.840000\n",
            "18  1.615   2.608225\n",
            "19  1.835   3.367225\n",
            "20  2.465   6.076225\n",
            "21  3.520  12.390400\n",
            "22  3.435  11.799225\n",
            "23  3.840  14.745600\n",
            "24  3.845  14.784025\n",
            "25  1.935   3.744225\n",
            "26  2.140   4.579600\n",
            "27  1.513   2.289169\n",
            "28  3.170  10.048900\n",
            "29  2.770   7.672900\n",
            "30  3.570  12.744900\n",
            "31  2.780   7.728400 0     21.0\n",
            "1     21.0\n",
            "2     22.8\n",
            "3     21.4\n",
            "4     18.7\n",
            "5     18.1\n",
            "6     14.3\n",
            "7     24.4\n",
            "8     22.8\n",
            "9     19.2\n",
            "10    17.8\n",
            "11    16.4\n",
            "12    17.3\n",
            "13    15.2\n",
            "14    10.4\n",
            "15    10.4\n",
            "16    14.7\n",
            "17    32.4\n",
            "18    30.4\n",
            "19    33.9\n",
            "20    21.5\n",
            "21    15.5\n",
            "22    15.2\n",
            "23    13.3\n",
            "24    19.2\n",
            "25    27.3\n",
            "26    26.0\n",
            "27    30.4\n",
            "28    15.8\n",
            "29    19.7\n",
            "30    15.0\n",
            "31    21.4\n",
            "Name: mpg, dtype: float64\n"
          ]
        }
      ]
    },
    {
      "cell_type": "code",
      "source": [
        "model=linear_model.LinearRegression()\n",
        "X=pd.DataFrame([data['wt'],data['wt']**2,data['wt']**3,data['wt']**4,data['wt']**5,data['wt']**6,data['wt']**7,data['wt']**8,data['wt']**9,data['wt']**10]).T\n",
        "model.fit(X,y=data['mpg'])\n",
        "print('He so intercept la:',model.intercept_)\n",
        "print('He so coeffient la :',model.coef_)\n",
        "print('Do chinh xac cua mo hinh:', model.score(X,y))"
      ],
      "metadata": {
        "id": "DINM9WzamdsL",
        "colab": {
          "base_uri": "https://localhost:8080/"
        },
        "outputId": "940194db-3944-44ea-cc00-c910d7c67da6"
      },
      "execution_count": null,
      "outputs": [
        {
          "output_type": "stream",
          "name": "stdout",
          "text": [
            "He so intercept la: -14921.11995188375\n",
            "He so coeffient la : [ 6.45813558e+04 -1.20086131e+05  1.26931928e+05 -8.46598454e+04\n",
            "  3.73155199e+04 -1.10334755e+04  2.16590404e+03 -2.70730544e+02\n",
            "  1.94974162e+01 -6.15515436e-01]\n",
            "Do chinh xac cua mo hinh: 0.8702106571479111\n"
          ]
        }
      ]
    },
    {
      "cell_type": "code",
      "source": [
        "import numpy as np\n",
        "range=np.arange(1.5,5.5,0.1)\n",
        "X_range=pd.DataFrame([range,range**2,range**3,range**4,range**5,range**6,range**7,range**8,range**9,range**10]).T\n",
        "y_pred=model.predict(X_range)\n",
        "data.plot(kind='scatter',x='wt',y='mpg',figsize=(9,9),color='black',xlim=(0,7))\n",
        "plt.plot(range,y_pred,color='blue')"
      ],
      "metadata": {
        "colab": {
          "base_uri": "https://localhost:8080/",
          "height": 658
        },
        "id": "JpaS2nOf6Iiy",
        "outputId": "921a9836-f83b-4b43-f7eb-b021d4883e75"
      },
      "execution_count": null,
      "outputs": [
        {
          "output_type": "stream",
          "name": "stderr",
          "text": [
            "/usr/local/lib/python3.9/dist-packages/sklearn/base.py:439: UserWarning: X does not have valid feature names, but LinearRegression was fitted with feature names\n",
            "  warnings.warn(\n",
            "/usr/local/lib/python3.9/dist-packages/pandas/plotting/_matplotlib/core.py:1114: UserWarning: No data for colormapping provided via 'c'. Parameters 'cmap' will be ignored\n",
            "  scatter = ax.scatter(\n"
          ]
        },
        {
          "output_type": "execute_result",
          "data": {
            "text/plain": [
              "[<matplotlib.lines.Line2D at 0x7f0f1b4edbb0>]"
            ]
          },
          "metadata": {},
          "execution_count": 22
        },
        {
          "output_type": "display_data",
          "data": {
            "text/plain": [
              "<Figure size 648x648 with 1 Axes>"
            ],
            "image/png": "[encoded data removed]"
          },
          "metadata": {
            "needs_background": "light"
          }
        }
      ]
    },
    {
      "cell_type": "code",
      "source": [],
      "metadata": {
        "id": "JPFl1Plu6W7z"
      },
      "execution_count": null,
      "outputs": []
    }
  ]
}